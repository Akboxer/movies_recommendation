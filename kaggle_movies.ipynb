{
 "cells": [
  {
   "cell_type": "code",
   "execution_count": 4,
   "id": "4962d5e6-6c6f-40fc-8064-8d045ec461fc",
   "metadata": {},
   "outputs": [],
   "source": [
    "import pandas as pd \n",
    "import numpy as np\n",
    "from sklearn.feature_extraction.text import TfidfVectorizer\n",
    "from sklearn.metrics.pairwise import linear_kernel"
   ]
  },
  {
   "cell_type": "code",
   "execution_count": 6,
   "id": "6de8079c-2894-4654-82e3-a2291f47798c",
   "metadata": {},
   "outputs": [],
   "source": [
    "\n",
    "df_m=pd.read_csv(\"tmdb_5000_movies.csv\")\n",
    "df_c=pd.read_csv('tmdb_5000_credits.csv')\n"
   ]
  },
  {
   "cell_type": "code",
   "execution_count": 60,
   "id": "0e114393-801b-476c-912d-158de1a37c2a",
   "metadata": {},
   "outputs": [
    {
     "data": {
      "text/plain": [
       "Index(['budget', 'genres', 'homepage', 'id', 'keywords', 'original_language',\n",
       "       'original_title', 'overview', 'popularity', 'production_companies',\n",
       "       'production_countries', 'release_date', 'revenue', 'runtime',\n",
       "       'spoken_languages', 'status', 'tagline', 'title', 'vote_average',\n",
       "       'vote_count'],\n",
       "      dtype='object')"
      ]
     },
     "execution_count": 60,
     "metadata": {},
     "output_type": "execute_result"
    }
   ],
   "source": [
    "df_m.columns"
   ]
  },
  {
   "cell_type": "code",
   "execution_count": 41,
   "id": "57e27631-3b51-455f-afbc-566fc1eb9170",
   "metadata": {},
   "outputs": [],
   "source": [
    "#df_m.head()"
   ]
  },
  {
   "cell_type": "code",
   "execution_count": 12,
   "id": "791631b5-3d07-4540-bf7e-9df18c0355ef",
   "metadata": {},
   "outputs": [
    {
     "data": {
      "text/plain": [
       "0    In the 22nd century, a paraplegic Marine is di...\n",
       "1    Captain Barbossa, long believed to be dead, ha...\n",
       "2    A cryptic message from Bond’s past sends him o...\n",
       "3    Following the death of District Attorney Harve...\n",
       "4    John Carter is a war-weary, former military ca...\n",
       "Name: overview, dtype: object"
      ]
     },
     "execution_count": 12,
     "metadata": {},
     "output_type": "execute_result"
    }
   ],
   "source": [
    "df_m[\"overview\"].head()"
   ]
  },
  {
   "cell_type": "code",
   "execution_count": 62,
   "id": "7abd0498-16df-41ed-ac9e-8cbd3e057583",
   "metadata": {},
   "outputs": [],
   "source": [
    "a=TfidfVectorizer(stop_words=\"english\")\n",
    "df_m[\"overview\"]= df_m[\"overview\"].fillna('')\n",
    "tfidf_matrix=a.fit_transform(df_m[\"overview\"])\n",
    "\n"
   ]
  },
  {
   "cell_type": "code",
   "execution_count": 64,
   "id": "ef8a1bfe-5ebf-46f4-bbb9-6d20628ee045",
   "metadata": {},
   "outputs": [
    {
     "name": "stdout",
     "output_type": "stream",
     "text": [
      "original_title\n",
      "Avatar                                         0\n",
      "Pirates of the Caribbean: At World's End       1\n",
      "Spectre                                        2\n",
      "The Dark Knight Rises                          3\n",
      "John Carter                                    4\n",
      "                                            ... \n",
      "El Mariachi                                 4798\n",
      "Newlyweds                                   4799\n",
      "Signed, Sealed, Delivered                   4800\n",
      "Shanghai Calling                            4801\n",
      "My Date with Drew                           4802\n",
      "Length: 4803, dtype: int64\n"
     ]
    }
   ],
   "source": [
    "cos_relation=linear_kernel(tfidf_matrix,tfidf_matrix)\n",
    "indices=pd.Series(df_m.index, index=df_m[\"original_title\"]).drop_duplicates() \n",
    "print(indices)"
   ]
  },
  {
   "cell_type": "code",
   "execution_count": 58,
   "id": "a3be3ce0-8cc4-429b-b9cc-9a4b0ff4840f",
   "metadata": {},
   "outputs": [
    {
     "name": "stdout",
     "output_type": "stream",
     "text": [
      "2027                         I Am Sam\n",
      "869                You, Me and Dupree\n",
      "1796                         Brothers\n",
      "3660            Farce of the Penguins\n",
      "2573                   Nowhere to Run\n",
      "2158           She's Out of My League\n",
      "1350           Snow Falling on Cedars\n",
      "39                       TRON: Legacy\n",
      "111                      Transformers\n",
      "3598    The Haunting of Molly Hartley\n",
      "2761                       Dirty Work\n",
      "913                           Yes Man\n",
      "3599                        Lone Star\n",
      "1369                        Cape Fear\n",
      "4801                 Shanghai Calling\n",
      "2081                            Molly\n",
      "3624                             Moon\n",
      "4417          My Last Day Without You\n",
      "365                           Contact\n",
      "2281               A Cinderella Story\n",
      "Name: original_title, dtype: object\n"
     ]
    }
   ],
   "source": [
    "def get_name (title, cosine_sim= cos_relation):\n",
    "    idx=indices[title]\n",
    "    sim_scores= enumerate (cos_relation[idx])\n",
    "    sim_scores=sorted(sim_scores, key=lambda x : x[1],reverse=True)\n",
    "    sim_scores=sim_scores[1:21]\n",
    "    \n",
    "    sim_index=[i[0] for i in sim_scores]\n",
    "    print(df_m[\"original_title\"].iloc[sim_index])\n",
    "get_name(\"Ghost\")"
   ]
  },
  {
   "cell_type": "code",
   "execution_count": 2,
   "id": "21b6bed0-00a3-47f2-87d6-76fb327c460f",
   "metadata": {},
   "outputs": [
    {
     "data": {
      "text/plain": [
       "'C:\\\\Users\\\\NexG\\\\3D Objects'"
      ]
     },
     "execution_count": 2,
     "metadata": {},
     "output_type": "execute_result"
    }
   ],
   "source": [
    "pwd"
   ]
  },
  {
   "cell_type": "code",
   "execution_count": null,
   "id": "92201e81-325f-4066-8899-679ff442e788",
   "metadata": {},
   "outputs": [],
   "source": []
  },
  {
   "cell_type": "code",
   "execution_count": null,
   "id": "26853fde-d27e-4089-b143-fe8de8b91418",
   "metadata": {},
   "outputs": [],
   "source": []
  },
  {
   "cell_type": "code",
   "execution_count": null,
   "id": "be145039-b23b-42ad-8280-87f5a1907f70",
   "metadata": {},
   "outputs": [],
   "source": []
  }
 ],
 "metadata": {
  "kernelspec": {
   "display_name": "Python 3 (ipykernel)",
   "language": "python",
   "name": "python3"
  },
  "language_info": {
   "codemirror_mode": {
    "name": "ipython",
    "version": 3
   },
   "file_extension": ".py",
   "mimetype": "text/x-python",
   "name": "python",
   "nbconvert_exporter": "python",
   "pygments_lexer": "ipython3",
   "version": "3.12.4"
  }
 },
 "nbformat": 4,
 "nbformat_minor": 5
}
